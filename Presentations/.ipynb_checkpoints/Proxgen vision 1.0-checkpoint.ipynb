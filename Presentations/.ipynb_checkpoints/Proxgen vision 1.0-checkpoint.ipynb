{
 "cells": [
  {
   "cell_type": "markdown",
   "metadata": {},
   "source": [
    "# `WHAT IS VISION 1.0?`"
   ]
  },
  {
   "cell_type": "markdown",
   "metadata": {},
   "source": [
    "## *Its a completely advanced Artificial Intelligence powered device for blind people.it helps them to safely navigate in streets and on roads.*\n",
    "\n",
    "<!-- ![](./vision_v1_2.jpg =100x20) -->\n",
    "<img src=\"./vision_v1_2.jpg\" alt=\"drawing\" width=\"500\"/>"
   ]
  },
  {
   "cell_type": "markdown",
   "metadata": {
    "heading_collapsed": true
   },
   "source": [
    "## `Device Architecture`\n",
    "\n",
    "### To fulfuill the objective of this device, it should have two basic fetures.\n"
   ]
  },
  {
   "cell_type": "markdown",
   "metadata": {
    "hidden": true
   },
   "source": [
    "* It should detect the object.\n",
    "* It should measure the distance of the object."
   ]
  },
  {
   "cell_type": "markdown",
   "metadata": {},
   "source": [
    "## `Process Flow`"
   ]
  },
  {
   "cell_type": "markdown",
   "metadata": {},
   "source": [
    "To perform the meaningfull results and to fulfill above mentioned objective system will go through 3 stages. For the purpose of this article we will call it.\n"
   ]
  },
  {
   "cell_type": "markdown",
   "metadata": {},
   "source": [
    "### 1. Sensing"
   ]
  },
  {
   "cell_type": "markdown",
   "metadata": {},
   "source": [
    "In the sensing stage, cameras and various sensors are used to see any objects that are around the person, such as other cars, humans, bicycles, and animals."
   ]
  },
  {
   "cell_type": "markdown",
   "metadata": {},
   "source": [
    "\n",
    "### Sensors"
   ]
  },
  {
   "cell_type": "markdown",
   "metadata": {},
   "source": [
    "\n",
    "#### As a human we need eyes to see, similarly for this device various sensors would be eye.\n",
    "\n",
    "1. Cameras:- Cameras are the more similar to the our own sight, they are capturing continues pictures. Though it gives the more natural vision the things around the person, but the down side is it doesn't give much sence of the distance of the object. so for that we are going to use another sensor called Radar and Lidar. "
   ]
  },
  {
   "cell_type": "code",
   "execution_count": null,
   "metadata": {},
   "outputs": [],
   "source": []
  },
  {
   "cell_type": "markdown",
   "metadata": {},
   "source": [
    "### 2. Understanding\n"
   ]
  },
  {
   "cell_type": "markdown",
   "metadata": {},
   "source": [
    "### 3. Action"
   ]
  },
  {
   "cell_type": "code",
   "execution_count": null,
   "metadata": {},
   "outputs": [],
   "source": []
  }
 ],
 "metadata": {
  "kernelspec": {
   "display_name": "Python 3",
   "language": "python",
   "name": "python3"
  },
  "language_info": {
   "codemirror_mode": {
    "name": "ipython",
    "version": 3
   },
   "file_extension": ".py",
   "mimetype": "text/x-python",
   "name": "python",
   "nbconvert_exporter": "python",
   "pygments_lexer": "ipython3",
   "version": "3.8.3"
  }
 },
 "nbformat": 4,
 "nbformat_minor": 4
}
